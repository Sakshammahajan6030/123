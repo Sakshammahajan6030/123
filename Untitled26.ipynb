{
  "nbformat": 4,
  "nbformat_minor": 0,
  "metadata": {
    "colab": {
      "provenance": []
    },
    "kernelspec": {
      "name": "python3",
      "display_name": "Python 3"
    },
    "language_info": {
      "name": "python"
    }
  },
  "cells": [
    {
      "cell_type": "code",
      "execution_count": 1,
      "metadata": {
        "id": "d12YLBX8zQqV"
      },
      "outputs": [],
      "source": [
        "#Explain the purpose and advantages of NumPy in scientific computing and data analysis. How does it\n",
        "#enhance Python's capabilities for numerical operations\n",
        "\n",
        "\n",
        "\n",
        "#Efficiency: It enables efficient numerical computations. NumPy operations are performed in C, which makes them faster compared to traditional Python loops.\n",
        "\n",
        "#Convenient: It provides an easy-to-use API for working with large datasets.\n",
        "\n",
        "#Interoperability: NumPy arrays can be used seamlessly with other Python libraries, such as SciPy, Matplotlib, and pandas, making it essential for data analysis and machine learning.\n",
        "\n",
        "#Functionality: It offers various mathematical functions such as linear algebra, Fourier transform, and random number generation.\n",
        "\n",
        "#Memory Efficiency: NumPy arrays consume less memory and provide a mechanism to specify the data types, which can be useful for optimizing memory usage.\n",
        "\n"
      ]
    },
    {
      "cell_type": "code",
      "source": [
        "#Compare and contrast np.mean() and np.average() functions in NumPy. When would you use one over the\n",
        "#other?\n",
        "\n",
        "\n",
        "\n",
        "#np.mean()\n",
        "\n",
        "#Purpose: Computes the arithmetic mean along the specified axis.\n",
        "\n",
        "#Parameters: Takes in the array and the axis over which to compute the mean.\n",
        "\n",
        "#Weights: Does not support weights, which means it treats all elements equally.\n",
        "\n",
        "#np.average()\n",
        "\n",
        "#Purpose: Computes the weighted average along the specified axis.\n",
        "\n",
        "#Parameters: Similar to np.mean(), but it also accepts a weights parameter.\n",
        "\n",
        "#Weights: Allows you to pass an array of weights that gives different importance to different elements.\n",
        "\n",
        "#When to use which:\n",
        "\n",
        "#Use np.mean() when you need a straightforward, unweighted average of your data.\n",
        "\n",
        "#Opt for np.average() if you need to account for varying significance of your data points.\n",
        "\n",
        "#Choosing between them essentially boils down to whether you need weights or not. Simple averages? Go for np.mean(). Weighted considerations? np.average() is your go-to."
      ],
      "metadata": {
        "id": "dzZE-NgFzuxy"
      },
      "execution_count": null,
      "outputs": []
    },
    {
      "cell_type": "code",
      "source": [
        "# Describe the methods for reversing a NumPy array along different axes. Provide examples for 1D and 2D\n",
        "#arrays.\n",
        "\n",
        "\n",
        "#Reversing a NumPy array can be done using slicing techniques\n",
        "\n",
        "\n",
        "import numpy as np\n",
        "\n",
        "\n",
        "array_1d = np.array([1, 2, 3, 4, 5])\n",
        "\n",
        "reversed_array_1d = array_1d[::-1]\n",
        "\n",
        "print(reversed_array_1d)\n"
      ],
      "metadata": {
        "colab": {
          "base_uri": "https://localhost:8080/"
        },
        "id": "UOz8cFNB0adx",
        "outputId": "8210be5d-78f4-44eb-9530-322b0e72a6e5"
      },
      "execution_count": 2,
      "outputs": [
        {
          "output_type": "stream",
          "name": "stdout",
          "text": [
            "[5 4 3 2 1]\n"
          ]
        }
      ]
    },
    {
      "cell_type": "code",
      "source": [
        "#How can you determine the data type of elements in a NumPy array? Discuss the importance of data types\n",
        "#in memory management and performance\n",
        "\n",
        "import numpy as np\n",
        "\n",
        "array = np.array([1, 2, 3])\n",
        "\n",
        "data_type = array.dtype\n",
        "\n",
        "print(data_type)\n"
      ],
      "metadata": {
        "colab": {
          "base_uri": "https://localhost:8080/"
        },
        "id": "tIsa_5vE01U1",
        "outputId": "0cd0f8cc-4cd1-47ab-d1b2-3901503cc72f"
      },
      "execution_count": 3,
      "outputs": [
        {
          "output_type": "stream",
          "name": "stdout",
          "text": [
            "int64\n"
          ]
        }
      ]
    },
    {
      "cell_type": "code",
      "source": [
        "#Define ndarrays in NumPy and explain their key features. How do they differ from standard Python lists\n",
        "\n",
        "\n",
        "\n",
        "#Definition: ndarray stands for n-dimensional array. It is the primary data structure in NumPy, designed for numerical computation.\n",
        "\n",
        "#Key Features:\n",
        "\n",
        "#Homogeneous: All elements in an ndarray must be of the same data type.\n",
        "\n",
        "#Multidimensional: Can handle multiple dimensions (1D, 2D, 3D, etc.).\n",
        "\n",
        "#Fixed Size: The size of an ndarray is fixed when created.\n",
        "\n",
        "#Efficient: Optimized for performance, especially for numerical operations.\n",
        "\n",
        "#Indexing & Slicing: Supports advanced indexing and slicing.\n",
        "\n",
        "#Universal Functions: Efficiently applies functions element-wise."
      ],
      "metadata": {
        "id": "1PgcNB1R1D-w"
      },
      "execution_count": null,
      "outputs": []
    },
    {
      "cell_type": "code",
      "source": [
        " #Analyze the performance benefits of NumPy arrays over Python lists for large-scale numerical operations\n",
        "\n",
        "\n",
        "\n",
        "\n",
        "import numpy as np\n",
        "import time\n",
        "\n",
        "\n",
        "size = 1000000\n",
        "python_list = list(range(size))\n",
        "numpy_array = np.arange(size)\n",
        "\n",
        "\n",
        "start = time.time()\n",
        "sum_list = sum(python_list)\n",
        "end = time.time()\n",
        "print(\"Sum of list: \", sum_list, \"Time: \", end - start)\n",
        "\n",
        "start = time.time()\n",
        "sum_array = np.sum(numpy_array)\n",
        "end = time.time()\n",
        "print(\"Sum of array: \", sum_array, \"Time: \", end - start)\n"
      ],
      "metadata": {
        "colab": {
          "base_uri": "https://localhost:8080/"
        },
        "id": "PQht8g9b1pOe",
        "outputId": "f4a32c34-491c-4e41-f39d-2d42c4ffd4f3"
      },
      "execution_count": 4,
      "outputs": [
        {
          "output_type": "stream",
          "name": "stdout",
          "text": [
            "Sum of list:  499999500000 Time:  0.010242223739624023\n",
            "Sum of array:  499999500000 Time:  0.004552125930786133\n"
          ]
        }
      ]
    },
    {
      "cell_type": "code",
      "source": [
        "#Compare vstack() and hstack() functions in NumPy. Provide examples demonstrating their usage and\n",
        "#output.\n",
        "\n",
        "\n",
        "import numpy as np\n",
        "\n",
        "array1 = np.array([1, 2, 3])\n",
        "array2 = np.array([4, 5, 6])\n",
        "\n",
        "result_vstack = np.vstack((array1, array2))\n",
        "print(result_vstack)\n"
      ],
      "metadata": {
        "colab": {
          "base_uri": "https://localhost:8080/"
        },
        "id": "iyKYSy7O1_bk",
        "outputId": "904a8f7f-2fbf-445e-9da4-eb23fbd414f7"
      },
      "execution_count": 5,
      "outputs": [
        {
          "output_type": "stream",
          "name": "stdout",
          "text": [
            "[[1 2 3]\n",
            " [4 5 6]]\n"
          ]
        }
      ]
    },
    {
      "cell_type": "code",
      "source": [
        "import numpy as np\n",
        "\n",
        "array1 = np.array([1, 2, 3])\n",
        "array2 = np.array([4, 5, 6])\n",
        "\n",
        "result_hstack = np.hstack((array1, array2))\n",
        "print(result_hstack)\n"
      ],
      "metadata": {
        "colab": {
          "base_uri": "https://localhost:8080/"
        },
        "id": "ywQueH4m2ubv",
        "outputId": "2fef147a-73ca-46bc-aa73-16b618ab2f62"
      },
      "execution_count": 6,
      "outputs": [
        {
          "output_type": "stream",
          "name": "stdout",
          "text": [
            "[1 2 3 4 5 6]\n"
          ]
        }
      ]
    },
    {
      "cell_type": "code",
      "source": [
        "#Explain the differences between fliplr() and flipud() methods in NumPy, including their effects on various\n",
        "#array dimensions.\n",
        "\n",
        "\n",
        "import numpy as np\n",
        "\n",
        "array_2d = np.array([[1, 2, 3], [4, 5, 6], [7, 8, 9]])\n",
        "flipped_lr = np.fliplr(array_2d)\n",
        "print(flipped_lr)\n"
      ],
      "metadata": {
        "colab": {
          "base_uri": "https://localhost:8080/"
        },
        "id": "V-8ps_nb22lT",
        "outputId": "77291510-9d79-488b-fc4d-ceda381d2b15"
      },
      "execution_count": 8,
      "outputs": [
        {
          "output_type": "stream",
          "name": "stdout",
          "text": [
            "[[3 2 1]\n",
            " [6 5 4]\n",
            " [9 8 7]]\n"
          ]
        }
      ]
    },
    {
      "cell_type": "code",
      "source": [
        "import numpy as np\n",
        "\n",
        "array_2d = np.array([[1, 2, 3], [4, 5, 6], [7, 8, 9]])\n",
        "flipped_ud = np.flipud(array_2d)\n",
        "print(flipped_ud)\n",
        "#fliplr(): Reverses column order, affecting the left/right dimension.\n",
        "\n",
        "#flipud(): Reverses row order, affecting the up/down dimension."
      ],
      "metadata": {
        "colab": {
          "base_uri": "https://localhost:8080/"
        },
        "id": "S50TWomy2_Ix",
        "outputId": "f3866e68-debe-4f91-dd0a-f68851f84ce9"
      },
      "execution_count": 10,
      "outputs": [
        {
          "output_type": "stream",
          "name": "stdout",
          "text": [
            "[[7 8 9]\n",
            " [4 5 6]\n",
            " [1 2 3]]\n"
          ]
        }
      ]
    },
    {
      "cell_type": "code",
      "source": [
        "#Discuss the functionality of the array_split() method in NumPy. How does it handle uneven splits?\n",
        "\n",
        "\n",
        "import numpy as np\n",
        "\n",
        "array = np.arange(10)\n",
        "\n",
        "\n",
        "split_array = np.array_split(array, 3)\n",
        "for i, subarray in enumerate(split_array):\n",
        "    print(f\"Sub-array {i}: {subarray}\")\n"
      ],
      "metadata": {
        "colab": {
          "base_uri": "https://localhost:8080/"
        },
        "id": "MwnW12Ef3RGL",
        "outputId": "2f461e10-9a38-4012-e856-870c0210caeb"
      },
      "execution_count": 11,
      "outputs": [
        {
          "output_type": "stream",
          "name": "stdout",
          "text": [
            "Sub-array 0: [0 1 2 3]\n",
            "Sub-array 1: [4 5 6]\n",
            "Sub-array 2: [7 8 9]\n"
          ]
        }
      ]
    },
    {
      "cell_type": "code",
      "source": [
        "# When the array cannot be evenly divided, array_split() will create sub-arrays\n",
        "# with sizes as equal as possible. The first few sub-arrays will be larger by\n",
        "# one element if the division is uneven."
      ],
      "metadata": {
        "id": "PnoS9Ptk3vpL"
      },
      "execution_count": 12,
      "outputs": []
    },
    {
      "cell_type": "code",
      "source": [
        "#Explain the concepts of vectorization and broadcasting in NumPy. How do they contribute to efficient array\n",
        "#operations?\n",
        "\n",
        "\n",
        "import numpy as np\n",
        "\n",
        "array = np.array([1, 2, 3, 4, 5])\n",
        "\n",
        "\n",
        "result = array + 10\n",
        "print(result)\n"
      ],
      "metadata": {
        "colab": {
          "base_uri": "https://localhost:8080/"
        },
        "id": "rnBTZobq4BOT",
        "outputId": "09c94286-bb28-4ed2-aac9-df108fb6ef87"
      },
      "execution_count": 13,
      "outputs": [
        {
          "output_type": "stream",
          "name": "stdout",
          "text": [
            "[11 12 13 14 15]\n"
          ]
        }
      ]
    },
    {
      "cell_type": "code",
      "source": [
        "import numpy as np\n",
        "\n",
        "array1 = np.array([1, 2, 3])\n",
        "array2 = np.array([[4], [5], [6]])\n",
        "\n",
        "\n",
        "result = array1 + array2\n",
        "print(result)\n"
      ],
      "metadata": {
        "colab": {
          "base_uri": "https://localhost:8080/"
        },
        "id": "roxtddeL4ZHW",
        "outputId": "cc095a49-59fa-487c-9ce3-86ebc8031e6c"
      },
      "execution_count": 14,
      "outputs": [
        {
          "output_type": "stream",
          "name": "stdout",
          "text": [
            "[[5 6 7]\n",
            " [6 7 8]\n",
            " [7 8 9]]\n"
          ]
        }
      ]
    },
    {
      "cell_type": "code",
      "source": [
        "#Create a 3x3 NumPy array with random integers between 1 and 100. Then, interchange its rows and columns\n",
        "\n",
        "\n",
        "import numpy as np\n",
        "\n",
        "array_3x3 = np.random.randint(1, 101, size=(3, 3))\n",
        "print(\"Original array:\")\n",
        "print(array_3x3)\n",
        "\n",
        "transposed_array = np.transpose(array_3x3)\n",
        "print(\"Transposed array:\")\n",
        "print(transposed_array)\n"
      ],
      "metadata": {
        "colab": {
          "base_uri": "https://localhost:8080/"
        },
        "id": "hgtiwYmT4bfJ",
        "outputId": "2cac6272-e2d8-4980-9738-66ebf17cd1e0"
      },
      "execution_count": 15,
      "outputs": [
        {
          "output_type": "stream",
          "name": "stdout",
          "text": [
            "Original array:\n",
            "[[66 57 25]\n",
            " [84 32 77]\n",
            " [ 5  5 77]]\n",
            "Transposed array:\n",
            "[[66 84  5]\n",
            " [57 32  5]\n",
            " [25 77 77]]\n"
          ]
        }
      ]
    },
    {
      "cell_type": "code",
      "source": [
        "#Generate a 1D NumPy array with 10 elements. Reshape it into a 2x5 array, then into a 5x2 array.\n",
        "\n",
        "\n",
        "import numpy as np\n",
        "\n",
        "\n",
        "array_1d = np.arange(10)\n",
        "print(\"1D array:\")\n",
        "print(array_1d)\n",
        "\n",
        "\n",
        "array_2x5 = array_1d.reshape((2, 5))\n",
        "print(\"2x5 array:\")\n",
        "print(array_2x5)\n",
        "\n",
        "array_5x2 = array_2x5.reshape((5, 2))\n",
        "print(\"5x2 array:\")\n",
        "print(array_5x2)\n"
      ],
      "metadata": {
        "colab": {
          "base_uri": "https://localhost:8080/"
        },
        "id": "zAr_mLTn4xqQ",
        "outputId": "ec4e6ef3-5e8c-4214-9f12-4804a79be5ad"
      },
      "execution_count": 16,
      "outputs": [
        {
          "output_type": "stream",
          "name": "stdout",
          "text": [
            "1D array:\n",
            "[0 1 2 3 4 5 6 7 8 9]\n",
            "2x5 array:\n",
            "[[0 1 2 3 4]\n",
            " [5 6 7 8 9]]\n",
            "5x2 array:\n",
            "[[0 1]\n",
            " [2 3]\n",
            " [4 5]\n",
            " [6 7]\n",
            " [8 9]]\n"
          ]
        }
      ]
    },
    {
      "cell_type": "code",
      "source": [
        "#Create a 4x4 NumPy array with random float values. Add a border of zeros around it, resulting in a 6x6 array.\n",
        "\n",
        "import numpy as np\n",
        "\n",
        "\n",
        "array_4x4 = np.random.rand(4, 4)\n",
        "print(\"4x4 array:\")\n",
        "print(array_4x4)\n",
        "\n",
        "\n",
        "array_6x6 = np.pad(array_4x4, pad_width=1, mode='constant', constant_values=0)\n",
        "print(\"6x6 array with border of zeros:\")\n",
        "print(array_6x6)\n"
      ],
      "metadata": {
        "colab": {
          "base_uri": "https://localhost:8080/"
        },
        "id": "9YkzI8G14_0b",
        "outputId": "3a5b14ab-ee41-4a16-8d13-c108823ab996"
      },
      "execution_count": 19,
      "outputs": [
        {
          "output_type": "stream",
          "name": "stdout",
          "text": [
            "4x4 array:\n",
            "[[0.81412017 0.02541535 0.62792136 0.38159681]\n",
            " [0.04502475 0.33567087 0.94511485 0.12490091]\n",
            " [0.82048077 0.18695428 0.49518231 0.82966275]\n",
            " [0.25652071 0.38894992 0.93336732 0.17775039]]\n",
            "6x6 array with border of zeros:\n",
            "[[0.         0.         0.         0.         0.         0.        ]\n",
            " [0.         0.81412017 0.02541535 0.62792136 0.38159681 0.        ]\n",
            " [0.         0.04502475 0.33567087 0.94511485 0.12490091 0.        ]\n",
            " [0.         0.82048077 0.18695428 0.49518231 0.82966275 0.        ]\n",
            " [0.         0.25652071 0.38894992 0.93336732 0.17775039 0.        ]\n",
            " [0.         0.         0.         0.         0.         0.        ]]\n"
          ]
        }
      ]
    },
    {
      "cell_type": "code",
      "source": [
        "#Using NumPy, create an array of integers from 10 to 60 with a step of 5\n",
        "\n",
        "\n",
        "import numpy as np\n",
        "\n",
        "\n",
        "array = np.arange(10, 65, 5)\n",
        "print(array)\n"
      ],
      "metadata": {
        "colab": {
          "base_uri": "https://localhost:8080/"
        },
        "id": "tn56S7jG5P2E",
        "outputId": "f4ef9077-45d3-485a-84b5-e5b59f6d5998"
      },
      "execution_count": 20,
      "outputs": [
        {
          "output_type": "stream",
          "name": "stdout",
          "text": [
            "[10 15 20 25 30 35 40 45 50 55 60]\n"
          ]
        }
      ]
    },
    {
      "cell_type": "code",
      "source": [
        "#Create a NumPy array of strings ['python', 'numpy', 'pandas']. Apply different case transformations\n",
        "#(uppercase, lowercase, title case, etc.) to each element.\n",
        "\n",
        "\n",
        "\n",
        "import numpy as np\n",
        "\n",
        "\n",
        "array = np.array(['python', 'numpy', 'pandas'])\n",
        "\n",
        "uppercase_array = np.char.upper(array)\n",
        "print(\"Uppercase:\", uppercase_array)\n",
        "\n",
        "lowercase_array = np.char.lower(array)\n",
        "print(\"Lowercase:\", lowercase_array)\n",
        "\n",
        "\n",
        "titlecase_array = np.char.title(array)\n",
        "print(\"Title case:\", titlecase_array)\n"
      ],
      "metadata": {
        "colab": {
          "base_uri": "https://localhost:8080/"
        },
        "id": "Kd2LjObc5s_2",
        "outputId": "45b8a3b9-23f5-4b6b-fc21-6fa3c28444dd"
      },
      "execution_count": 21,
      "outputs": [
        {
          "output_type": "stream",
          "name": "stdout",
          "text": [
            "Uppercase: ['PYTHON' 'NUMPY' 'PANDAS']\n",
            "Lowercase: ['python' 'numpy' 'pandas']\n",
            "Title case: ['Python' 'Numpy' 'Pandas']\n"
          ]
        }
      ]
    },
    {
      "cell_type": "code",
      "source": [
        "#Generate a NumPy array of words. Insert a space between each character of every word in the array.\n",
        "\n",
        "\n",
        "import numpy as np\n",
        "\n",
        "\n",
        "words_array = np.array(['python', 'numpy', 'pandas'])\n",
        "\n",
        "\n",
        "spaced_words_array = np.char.join(' ', words_array)\n",
        "print(spaced_words_array)\n"
      ],
      "metadata": {
        "colab": {
          "base_uri": "https://localhost:8080/"
        },
        "id": "v6DJ-X9t59JC",
        "outputId": "47014262-db64-4a13-e1d2-2d22e834750b"
      },
      "execution_count": 23,
      "outputs": [
        {
          "output_type": "stream",
          "name": "stdout",
          "text": [
            "['p y t h o n' 'n u m p y' 'p a n d a s']\n"
          ]
        }
      ]
    },
    {
      "cell_type": "code",
      "source": [
        "#Create two 2D NumPy arrays and perform element-wise addition, subtraction, multiplication, and division.\n",
        "\n",
        "\n",
        "import numpy as np\n",
        "\n",
        "\n",
        "array1 = np.array([[1, 2, 3], [4, 5, 6]])\n",
        "array2 = np.array([[7, 8, 9], [10, 11, 12]])\n",
        "\n",
        "addition_result = np.add(array1, array2)\n",
        "print(\"Addition:\\n\", addition_result)\n",
        "\n",
        "subtraction_result = np.subtract(array1, array2)\n",
        "print(\"Subtraction:\\n\", subtraction_result)\n",
        "\n",
        "multiplication_result = np.multiply(array1, array2)\n",
        "print(\"Multiplication:\\n\", multiplication_result)\n",
        "\n",
        "division_result = np.divide(array1, array2)\n",
        "print(\"Division:\\n\", division_result)\n"
      ],
      "metadata": {
        "colab": {
          "base_uri": "https://localhost:8080/"
        },
        "id": "v99qdImv6R6E",
        "outputId": "c79339cd-b559-42fb-8480-32de88bfdcbd"
      },
      "execution_count": 24,
      "outputs": [
        {
          "output_type": "stream",
          "name": "stdout",
          "text": [
            "Addition:\n",
            " [[ 8 10 12]\n",
            " [14 16 18]]\n",
            "Subtraction:\n",
            " [[-6 -6 -6]\n",
            " [-6 -6 -6]]\n",
            "Multiplication:\n",
            " [[ 7 16 27]\n",
            " [40 55 72]]\n",
            "Division:\n",
            " [[0.14285714 0.25       0.33333333]\n",
            " [0.4        0.45454545 0.5       ]]\n"
          ]
        }
      ]
    },
    {
      "cell_type": "code",
      "source": [
        "#Use NumPy to create a 5x5 identity matrix, then extract its diagonal elements\n",
        "\n",
        "\n",
        "import numpy as np\n",
        "\n",
        "# Create a 5x5 identity matrix\n",
        "identity_matrix = np.eye(5)\n",
        "print(\"Identity matrix:\")\n",
        "print(identity_matrix)\n",
        "\n",
        "# Extract the diagonal elements\n",
        "diagonal_elements = np.diag(identity_matrix)\n",
        "print(\"Diagonal elements:\")\n",
        "print(diagonal_elements)\n"
      ],
      "metadata": {
        "colab": {
          "base_uri": "https://localhost:8080/"
        },
        "id": "jZk4NBJs6hU6",
        "outputId": "7c535dbc-2a9f-4925-a8e3-780e58e138af"
      },
      "execution_count": 25,
      "outputs": [
        {
          "output_type": "stream",
          "name": "stdout",
          "text": [
            "Identity matrix:\n",
            "[[1. 0. 0. 0. 0.]\n",
            " [0. 1. 0. 0. 0.]\n",
            " [0. 0. 1. 0. 0.]\n",
            " [0. 0. 0. 1. 0.]\n",
            " [0. 0. 0. 0. 1.]]\n",
            "Diagonal elements:\n",
            "[1. 1. 1. 1. 1.]\n"
          ]
        }
      ]
    },
    {
      "cell_type": "code",
      "source": [
        "# Generate a NumPy array of 100 random integers between 0 and 1000. Find and display all prime numbers in\n",
        "#this array.\n",
        "\n",
        "\n",
        "import numpy as np\n",
        "\n",
        "random_array = np.random.randint(0, 1000, size=100)\n",
        "print(\"Random array:\")\n",
        "print(random_array)\n",
        "\n",
        "\n",
        "def is_prime(n):\n",
        "    if n <= 1:\n",
        "        return False\n",
        "    for i in range(2, int(np.sqrt(n)) + 1):\n",
        "        if n % i == 0:\n",
        "            return False\n",
        "    return True\n",
        "\n",
        "prime_numbers = [num for num in random_array if is_prime(num)]\n",
        "print(\"Prime numbers in the array:\")\n",
        "print(prime_numbers)\n"
      ],
      "metadata": {
        "colab": {
          "base_uri": "https://localhost:8080/"
        },
        "id": "_sTP8Ynh6zDx",
        "outputId": "ea5f7b99-b03e-464d-a471-e0cb77140d32"
      },
      "execution_count": 26,
      "outputs": [
        {
          "output_type": "stream",
          "name": "stdout",
          "text": [
            "Random array:\n",
            "[943 543 143 179 702 232 847 967 898 434 526   9 692 655 162 202 398 318\n",
            " 816 182 482   3 302 595 563 668 526 659 449 517 573 591 433 958 120 723\n",
            " 674 754 860 400 389 265 585 466 879  97 401  25 110 300 693 708 489 701\n",
            "  52 296  47 605 706   5 916 499 968 919 165 660 398 967 366 872 885 499\n",
            " 288 807 137 629 278 758 998 561 783 434  42 502 779 911 259 193 118 959\n",
            "  72 661  76 962 646 487 940  99 131 489]\n",
            "Prime numbers in the array:\n",
            "[179, 967, 3, 563, 659, 449, 433, 389, 97, 401, 701, 47, 5, 499, 919, 967, 499, 137, 911, 193, 661, 487, 131]\n"
          ]
        }
      ]
    },
    {
      "cell_type": "code",
      "source": [
        "#Create a NumPy array representing daily temperatures for a month. Calculate and display the weekly\n",
        "#averages\n",
        "\n",
        "\n",
        "import numpy as np\n",
        "\n",
        "\n",
        "daily_temperatures = np.random.randint(15, 35, size=30)\n",
        "print(\"Daily temperatures for the month:\")\n",
        "print(daily_temperatures)\n",
        "\n",
        "\n",
        "weekly_averages = [np.mean(daily_temperatures[i:i+7]) for i in range(0, len(daily_temperatures), 7)]\n",
        "print(\"Weekly averages:\")\n",
        "print(weekly_averages)\n"
      ],
      "metadata": {
        "colab": {
          "base_uri": "https://localhost:8080/"
        },
        "id": "jNOptxgH7QY0",
        "outputId": "49a52fef-35d9-447f-dc24-e315c449bd73"
      },
      "execution_count": 28,
      "outputs": [
        {
          "output_type": "stream",
          "name": "stdout",
          "text": [
            "Daily temperatures for the month:\n",
            "[18 18 26 31 24 18 28 32 17 25 30 34 33 22 27 19 26 31 27 29 26 18 17 17\n",
            " 34 31 32 15 21 23]\n",
            "Weekly averages:\n",
            "[23.285714285714285, 27.571428571428573, 26.428571428571427, 23.428571428571427, 22.0]\n"
          ]
        }
      ]
    },
    {
      "cell_type": "code",
      "source": [],
      "metadata": {
        "id": "TLpPqp1S7bEo"
      },
      "execution_count": null,
      "outputs": []
    }
  ]
}